{
 "cells": [
  {
   "cell_type": "code",
   "execution_count": 1,
   "id": "df9d1ed3",
   "metadata": {},
   "outputs": [],
   "source": [
    "import numpy as np\n",
    "import matplotlib.pyplot as plt\n",
    "from scipy.ndimage import gaussian_filter1d\n",
    "\n",
    "%matplotlib inline"
   ]
  },
  {
   "cell_type": "code",
   "execution_count": 2,
   "id": "48847d31",
   "metadata": {},
   "outputs": [],
   "source": [
    "from pyrates import OperatorTemplate, NodeTemplate, CircuitTemplate, clear\n",
    "\n",
    "# define QIF operator with conductance-based synapses\n",
    "eqs = [\n",
    "    \"r' = (Delta/(pi*tau) + 2.0*r*v) / tau\",\n",
    "    \"v' = (v^2 + eta + I_ext - (pi*tau*r)^2)/tau + (v_e - v)*g_e + (v_i - v)*g_i\",\n",
    "    \"g_e' = r_e - g_e/tau_e\",\n",
    "    \"g_i' = r_i - g_i/tau_i\"\n",
    "]\n",
    "variables = {\n",
    "    \"r\": \"output(0.0)\",\n",
    "    \"v\": \"variable(0.0)\",\n",
    "    \"g_e\": \"variable(0.0)\",\n",
    "    \"g_i\": \"variable(0.0)\",\n",
    "    \"Delta\": 1.0,\n",
    "    \"tau\": 1.0,\n",
    "    \"eta\": -3.0,\n",
    "    \"v_e\": 2.0,\n",
    "    \"v_i\": -4.0,\n",
    "    \"tau_e\": 0.5,\n",
    "    \"tau_i\": 2.0,\n",
    "    \"I_ext\": \"input(0.0)\",\n",
    "    \"r_e\": \"input(0.0)\",\n",
    "    \"r_i\": \"input(0.0)\"\n",
    "}\n",
    "op = OperatorTemplate(name=\"qif_conduct\", equations=eqs, variables=variables, path=None)\n",
    "\n",
    "# define QIF node\n",
    "node = NodeTemplate(name=\"qif_node\", operators=[op], path=None)\n",
    "\n",
    "# define QIF network\n",
    "edges = [\n",
    "    (\"p/qif_conduct/r\", \"p/qif_conduct/r_e\", None, {\"weight\": 15.0}),\n",
    "    (\"p/qif_conduct/r\", \"p/qif_conduct/r_i\", None, {\"weight\": 5.0})\n",
    "]\n",
    "qif = CircuitTemplate(name=\"qif\", nodes={\"p\": node}, edges=edges, path=None)"
   ]
  },
  {
   "cell_type": "code",
   "execution_count": 3,
   "id": "3b2672dd",
   "metadata": {},
   "outputs": [
    {
     "name": "stdout",
     "output_type": "stream",
     "text": [
      "Compilation Progress\n",
      "--------------------\n",
      "\t(1) Translating the circuit template into a networkx graph representation...\n",
      "\t\t...finished.\n",
      "\t(2) Preprocessing edge transmission operations...\n",
      "\t\t...finished.\n",
      "\t(3) Parsing the model equations into a compute graph...\n",
      "\t\t...finished.\n",
      "\tModel compilation was finished.\n",
      "Simulation Progress\n",
      "-------------------\n",
      "\t (1) Generating the network run function...\n",
      "\t (2) Processing output variables...\n",
      "\t\t...finished.\n",
      "\t (3) Running the simulation...\n",
      "\t\t...finished after 10.4738842s.\n"
     ]
    }
   ],
   "source": [
    "# simulation parameters\n",
    "T = 100.0\n",
    "T_on = 30.0\n",
    "T_off = 60.0\n",
    "dt = 1e-4\n",
    "dts = 1e-2\n",
    "\n",
    "# input definition\n",
    "steps = int(np.round(T/dt))\n",
    "start = int(np.round(T_on/dt))\n",
    "stop = int(np.round(T_off/dt))\n",
    "inp = np.zeros((steps,))\n",
    "inp[start:stop] = 10.0\n",
    "\n",
    "# perform simulation\n",
    "res = qif.run(simulation_time=T, step_size=dt, sampling_step_size=dts, solver=\"scipy\", method=\"RK45\",\n",
    "              outputs={\"v\": \"p/qif_conduct/v\", \"r\": \"p/qif_conduct/r\"}, inputs={\"p/qif_conduct/I_ext\": inp})\n",
    "clear(qif)"
   ]
  },
  {
   "cell_type": "code",
   "execution_count": 4,
   "id": "b580c586",
   "metadata": {},
   "outputs": [
    {
     "data": {
      "text/plain": [
       "Text(0, 0.5, 'r')"
      ]
     },
     "execution_count": 4,
     "metadata": {},
     "output_type": "execute_result"
    },
    {
     "data": {
      "image/png": "[encoded data removed]",
      "text/plain": [
       "<Figure size 432x288 with 2 Axes>"
      ]
     },
     "metadata": {
      "needs_background": "light"
     },
     "output_type": "display_data"
    }
   ],
   "source": [
    "fig, axes = plt.subplots(ncols=2)\n",
    "ax1 = axes[0]\n",
    "ax1.plot(res[\"v\"])\n",
    "ax1.set_ylabel(\"v\")\n",
    "ax2 = axes[1]\n",
    "ax2.plot(res[\"r\"], \"orange\")\n",
    "ax2.set_ylabel(\"r\")"
   ]
  },
  {
   "cell_type": "code",
   "execution_count": 16,
   "id": "106e9676",
   "metadata": {},
   "outputs": [
    {
     "data": {
      "text/plain": [
       "<CircuitTemplate 'None'>"
      ]
     },
     "execution_count": 16,
     "metadata": {},
     "output_type": "execute_result"
    }
   ],
   "source": [
    "# re-define QIF operator with conductance-based synapses\n",
    "op = OperatorTemplate(name=\"qif\", equations=eqs, variables=variables, path=None)\n",
    "\n",
    "# define QIF node\n",
    "node = NodeTemplate(name=\"qif_node\", operators=[op], path=None)\n",
    "\n",
    "# define STN-GPe network\n",
    "edges = [\n",
    "    (\"stn/qif/r\", \"gpe/qif/r_e\", None, {\"weight\": 8.0}),\n",
    "    (\"gpe/qif/r\", \"stn/qif/r_i\", None, {\"weight\": 12.0}),\n",
    "    (\"gpe/qif/r\", \"gpe/qif/r_i\", None, {\"weight\": 6.0})\n",
    "]\n",
    "stn_gpe = CircuitTemplate(name=\"qif\", nodes={\"stn\": node, \"gpe\": node}, edges=edges, path=None)\n",
    "\n",
    "# adjust parameters\n",
    "stn_gpe.update_var(node_vars={\n",
    "    \"stn/qif/tau\": 10.0,\n",
    "    \"gpe/qif/tau\": 15.0,\n",
    "    \"stn/qif/eta\": -10.0,\n",
    "    \"gpe/qif/eta\": -10.0,\n",
    "    \"stn/qif/Delta\": 2.0,\n",
    "    \"gpe/qif/Delta\": 6.0,\n",
    "    \"stn/qif/tau_e\": 10.0,\n",
    "    \"gpe/qif/tau_e\": 10.0,\n",
    "    \"stn/qif/tau_i\": 8.0,\n",
    "    \"gpe/qif/tau_i\": 8.0,\n",
    "})"
   ]
  },
  {
   "cell_type": "code",
   "execution_count": 17,
   "id": "7a3a622b",
   "metadata": {},
   "outputs": [
    {
     "name": "stdout",
     "output_type": "stream",
     "text": [
      "Compilation Progress\n",
      "--------------------\n",
      "\t(1) Translating the circuit template into a networkx graph representation...\n",
      "\t\t...finished.\n",
      "\t(2) Preprocessing edge transmission operations...\n",
      "\t\t...finished.\n",
      "\t(3) Parsing the model equations into a compute graph...\n",
      "\t\t...finished.\n",
      "\tModel compilation was finished.\n",
      "Simulation Progress\n",
      "-------------------\n",
      "\t (1) Generating the network run function...\n",
      "\t (2) Processing output variables...\n",
      "\t\t...finished.\n",
      "\t (3) Running the simulation...\n",
      "\t\t...finished after 5.689474400001927s.\n"
     ]
    }
   ],
   "source": [
    "# simulation parameters\n",
    "T = 1000.0\n",
    "T_on = 300.0\n",
    "T_off = 600.0\n",
    "dt = 1e-3\n",
    "dts = 1e-2\n",
    "\n",
    "# input definition\n",
    "steps = int(np.round(T/dt))\n",
    "start = int(np.round(T_on/dt))\n",
    "stop = int(np.round(T_off/dt))\n",
    "inp = np.zeros((steps,))\n",
    "inp[start:stop] = 10.0\n",
    "I_ext = gaussian_filter1d(inp, 50)\n",
    "\n",
    "# perform simulation\n",
    "res = stn_gpe.run(simulation_time=T, step_size=dt, sampling_step_size=dts, solver=\"scipy\", method=\"LSODA\",\n",
    "                  outputs={\"stn\": \"stn/qif/r\", \"gpe\": \"gpe/qif/r\"}, inputs={\"stn/qif/I_ext\": inp})\n",
    "clear(stn_gpe)"
   ]
  },
  {
   "cell_type": "code",
   "execution_count": 18,
   "id": "3be9f881",
   "metadata": {},
   "outputs": [
    {
     "data": {
      "text/plain": [
       "Text(0, 0.5, 'r')"
      ]
     },
     "execution_count": 18,
     "metadata": {},
     "output_type": "execute_result"
    },
    {
     "data": {
      "image/png": "[encoded data removed]",
      "text/plain": [
       "<Figure size 864x432 with 1 Axes>"
      ]
     },
     "metadata": {
      "needs_background": "light"
     },
     "output_type": "display_data"
    }
   ],
   "source": [
    "fig, ax = plt.subplots(figsize=(12, 6))\n",
    "ax.plot(res*1e3)\n",
    "ax.set_ylabel(\"r\")"
   ]
  },
  {
   "cell_type": "code",
   "execution_count": 21,
   "id": "6c721634",
   "metadata": {},
   "outputs": [],
   "source": [
    "clear(stn_gpe)"
   ]
  },
  {
   "cell_type": "code",
   "execution_count": null,
   "id": "a6d4ff31",
   "metadata": {},
   "outputs": [],
   "source": []
  }
 ],
 "metadata": {
  "kernelspec": {
   "display_name": "Python 3 (ipykernel)",
   "language": "python",
   "name": "python3"
  },
  "language_info": {
   "codemirror_mode": {
    "name": "ipython",
    "version": 3
   },
   "file_extension": ".py",
   "mimetype": "text/x-python",
   "name": "python",
   "nbconvert_exporter": "python",
   "pygments_lexer": "ipython3",
   "version": "3.8.12"
  }
 },
 "nbformat": 4,
 "nbformat_minor": 5
}
