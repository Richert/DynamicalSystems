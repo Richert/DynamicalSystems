{
 "cells": [
  {
   "cell_type": "markdown",
   "id": "4e5fde61",
   "metadata": {},
   "source": [
    "Computational Role of Striatal Feedback Inhibition\n",
    "=========================================\n",
    "\n",
    "Here, we summarize findings in the literature on the computational role of recurrent connections between spiny projections neurons (SPNs) in the striatum (STR) versus feed-forward inhibition via fast-spiking interneurons (FSIs) or feed-forward excitation via the cortex or thalamus."
   ]
  },
  {
   "cell_type": "markdown",
   "id": "f3eeca8a",
   "metadata": {},
   "source": [
    "## 1. Experimental findings"
   ]
  },
  {
   "cell_type": "markdown",
   "id": "a29d6be1",
   "metadata": {},
   "source": [
    "### Wilson, C.J. (2007) Progress in Brain Research\n",
    "\n",
    "- review on GABAergic inhibition in the STR\n",
    "- GABAergic inhibition from interneurons is purely feed-forward\n",
    "    - single SPN receives input from only a few interneurons\n",
    "    - interneurons target soma of SPNs and form powerful synapses\n",
    "- feedback GABAergic inhibition arises from SPN axon collaterals\n",
    "    - single SPN receives input from many other SPNs in its vicinity\n",
    "    - SPNs target distal dendrites and form weak synapses\n",
    "- suggests that feed-forward inhibition from interneurons serves a classic inhibition role (delaying spike timings) whereas SPN feedback plays a more complex role of changing the electrotonic structure of other SPNs\n",
    "- feedback inhibition is too weak for a single SPN to seriously inhibit neighboring neurons\n",
    "- local groups of simultaneously active cells might create a sufficiently powerful inhibitory signal though to inhibit neighboring groups\n",
    "- functional implications of weak feedback and powerful, non-convergent feed-forward inhibition are unknown\n",
    "- the strongly hyperpolarized resting potential of SPNs implies that GABAergic input at that resting potential will have a depolarizing effect\n",
    "- near action potential threshold, GABAergic input will hyperpolarize the cell as expected"
   ]
  },
  {
   "cell_type": "markdown",
   "id": "3d5a144b",
   "metadata": {},
   "source": [
    "### Alexander et al. (1987, 1985)\n",
    "\n",
    "- movement-related activity of SPN neurons emerges in clusters of cells\n",
    "- activation of these cell clusters elicited discrete movements of indivual body parts in primates"
   ]
  },
  {
   "cell_type": "markdown",
   "id": "6213a975",
   "metadata": {},
   "source": [
    "### Wickens and Oorshot (2000) Brain Dynamics and the Striatal Complex\n",
    "\n",
    "- theory of mutual inhibition between SPNs\n",
    "- competition between SPNs leads to selection of actions\n",
    "- discusses the modulatory role of dopamine and acetylcholine on this competition structure (high dopamine supports mutual inhibition whereas high acetylcholine attenuates mutual inhibition) "
   ]
  },
  {
   "cell_type": "markdown",
   "id": "b1e18273",
   "metadata": {},
   "source": [
    "### Planert et al. (2010) Journal of Neuroscience\n",
    "\n",
    "- report IPSC amplitudes of SPN -> SPN and FSI -> SPN synapses\n",
    "- quantification of synaptic dynamics and plasticity\n",
    "- FSI synapses are purely depressing, whereas SPN synapses are show diverse properties with a tendency for facilitation\n",
    "- D2-SPNs form more synaptic connections with other SPNs than D1-SPNs\n",
    "- FSIs do not express a strong preference for either SPN type"
   ]
  },
  {
   "cell_type": "markdown",
   "id": "ffb600e6",
   "metadata": {},
   "source": [
    "### Taverna et al. (2008) Journal of Neuroscience\n",
    "\n",
    "- D2-SPNs show stronger synaptic coupling with other SPNs than D1-SPNs\n",
    "- recurrent connectivity between SPNs is strongly diminished in PD"
   ]
  },
  {
   "cell_type": "markdown",
   "id": "7fbfc79f",
   "metadata": {},
   "source": [
    "### Gitties et al. (2010) Journal of Neuroscience\n",
    "\n",
    "- FSIs form depressing synapses onto SPNs\n",
    "- FSIs preferentially target D1-SPNs over D2-SPNs"
   ]
  },
  {
   "cell_type": "markdown",
   "id": "1bb62e07",
   "metadata": {},
   "source": [
    "### Gage et al. (2018) Neuron\n",
    "\n",
    "- recordings from M1, SPNs, FSIs, and GP in rats during task involving choice, movement and reward\n",
    "- FSIs show global activity during choice, accompanied by decreased GP activity\n",
    "- MSNs express activity throughout entire task\n",
    "- Role of FSIs might be related to global setting of STR regime rather than individual neuron's actions"
   ]
  },
  {
   "cell_type": "markdown",
   "id": "a0a830e6",
   "metadata": {},
   "source": [
    "### Barbera et al. (2016) Neuron\n",
    "\n",
    "- spatially constrained clusters of D1- and D2-SPNs can be identified during locomotion tasks in rodents\n",
    "- clusters in both cell types expressed similar correlations with locomotion, thus challenging theories of anti- vs. pro-kinetic effects of the different STR pathways\n",
    "- could decode behavioral state of mouse from SPN cluster activity"
   ]
  },
  {
   "cell_type": "markdown",
   "id": "9e31d871",
   "metadata": {},
   "source": [
    "### Klaus et al (2017) Neuron\n",
    "\n",
    "- local, correlated activity of SPNs during movement\n",
    "- less spatially distinct clusters than reported by Barbera et al. (2016)\n",
    "- some long-range connections could even exist between SPNs\n",
    "- propose that SPN clusters encode a map of action space"
   ]
  },
  {
   "cell_type": "markdown",
   "id": "ddda2c26",
   "metadata": {},
   "source": [
    "### Gritton et al. (2019) Nature Neuroscience\n",
    "\n",
    "- Recorded from SPNs in freely moving mice while controlling FSI and TAN signalling\n",
    "- increased SPN activity during movement periods\n",
    "- report small, but significant synchronization between local SPNs during movement\n",
    "- small, local clusters of synchronized SPNs emerge in movement periods\n",
    "- correlation distances are reported for SPNs, FSIs and TANs\n",
    "- FSIs but not TANS predict locomotion speed and SPN population activity\n",
    "- FSI activation seems to de-synchronize SPN activity and preceeds SPN activation at movement onset"
   ]
  },
  {
   "cell_type": "markdown",
   "id": "4ab0597e",
   "metadata": {},
   "source": [
    "### Peters et al. (2021) Nature\n",
    "\n",
    "- both SPN and FSI activity topographically reflects cortical activity\n",
    "- cortical activity seems to drive STR activity (causality)\n",
    "- training increased STR response to cortical input"
   ]
  },
  {
   "cell_type": "markdown",
   "id": "a9c68585",
   "metadata": {},
   "source": [
    "## 2. Theoretical and Computational Studies"
   ]
  },
  {
   "cell_type": "markdown",
   "id": "57cffd92",
   "metadata": {},
   "source": [
    "### Wickens et al. (2007)\n",
    "\n",
    "- review of literature on lateral inhibition and winner-takes-all dynamics\n",
    "- discusses the possibility of WTA dynamics in STR based on experimental literature\n",
    "- studies network of interconnected SPNs within a natural firing regime\n",
    "- provides estimates for network parameters such as connection probability, synaptic conductances, time constants, and reversal potentials (GABA: approx. -60 mV)\n",
    "- finds that weak lateral inhibition still serves to control overall SPN activity levels, i.e. mostly affects the macroscopic state of the SPN network"
   ]
  },
  {
   "cell_type": "markdown",
   "id": "ab9a2dac",
   "metadata": {},
   "source": [
    "### Belic et al. (2017) PLOS ONE\n",
    "\n",
    "- computational model of recurrently connected SPNs, receiving input from cortex and FSIs\n",
    "- oscillatory cortical drive was applied either to SPNs or FSIs\n",
    "- show that cortical oscillations are more effectively transferred to STR activity if conveyed via FSIs"
   ]
  },
  {
   "cell_type": "markdown",
   "id": "0bb823af",
   "metadata": {},
   "source": [
    "### Humphries et al. (2009) Frontiers in Computational Neuroscience\n",
    "\n",
    "- analysis of a reduced Izhikevich type neuron of SPNs\n",
    "- added dopaminergic modulation to the SPN neuron model\n",
    "- Comparison of reduced neuron model to compartmental SPN models\n",
    "- predicts that dopamine mostly acts via synaptic modifications and less so via membrane property changes\n",
    "- predicts that MSN neurons are actually not bistable "
   ]
  },
  {
   "cell_type": "markdown",
   "id": "a8bdcd25",
   "metadata": {},
   "source": [
    "## Humphries et al. (2009) Neural Networks\n",
    "\n",
    "- aim: Identifying the computational role of feedback inhibition between SPNs vs. feedforward inhibition from FSIs\n",
    "- model: 3D network model of SPNs and FSIs with physiologically informed coupling patterns\n",
    "- extensive set of neuron and network parameters reported\n",
    "- find that clusters of synchronized SPNs spontaneously appear under normal background stimulation conditions\n",
    "- show that the emergence of these clusters depends on dopamine levels (higher dopamine levels led to less synchrony)\n",
    "- show that feed-forward GABAergic input from FSIs to SPNs increases their firing rate\n",
    "- show that FSIs de-synchronized SPN activity in the model\n",
    "- show that feedforward signalling from FSIs dominates over SPN feedback in the model"
   ]
  },
  {
   "cell_type": "markdown",
   "id": "dafc47a4",
   "metadata": {},
   "source": [
    "### Moyer et al. (2014) Frontiers in Computational Neuroscience\n",
    "\n",
    "- study of the effects of SPN feedback vs. FSI feedforward inhibition in compartmental neural network model"
   ]
  },
  {
   "cell_type": "markdown",
   "id": "34fed5bb",
   "metadata": {},
   "source": [
    "### Kim and Chow (2017) eLife\n",
    "\n",
    "- network of recurrently coupled QIF neurons\n",
    "- trained intrinsic connections via recursive least-squares algorithm\n",
    "- were able to approximate arbitrary patterns of spatiotemporal network dynamics via fitting procedure\n",
    "- **GOTO METHOD FOR FITTING STR MODEL TO DATA**"
   ]
  },
  {
   "cell_type": "code",
   "execution_count": null,
   "id": "8b85a84f",
   "metadata": {},
   "outputs": [],
   "source": [
    "TODO: incorporate Corbin et al. (2016), Angulo-Garcia et al. (2016), Ponzi et al. (2010, 2012, 2013, 2020), and Burke et al. (2017)"
   ]
  }
 ],
 "metadata": {
  "kernelspec": {
   "display_name": "Python 3 (ipykernel)",
   "language": "python",
   "name": "python3"
  },
  "language_info": {
   "codemirror_mode": {
    "name": "ipython",
    "version": 3
   },
   "file_extension": ".py",
   "mimetype": "text/x-python",
   "name": "python",
   "nbconvert_exporter": "python",
   "pygments_lexer": "ipython3",
   "version": "3.9.7"
  }
 },
 "nbformat": 4,
 "nbformat_minor": 5
}
