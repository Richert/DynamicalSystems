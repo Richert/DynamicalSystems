{
 "cells": [
  {
   "cell_type": "code",
   "execution_count": 65,
   "id": "aaa6435e",
   "metadata": {},
   "outputs": [],
   "source": [
    "import numpy as np\n",
    "import matplotlib.pyplot as plt\n",
    "from scipy.ndimage import gaussian_filter1d\n",
    "from pyrates import OperatorTemplate, NodeTemplate, CircuitTemplate, clear\n",
    "\n",
    "%matplotlib inline"
   ]
  },
  {
   "cell_type": "code",
   "execution_count": 84,
   "id": "85a89e2a",
   "metadata": {},
   "outputs": [],
   "source": [
    "# define QIF operator with conductance-based synapses\n",
    "eqs = [\n",
    "    \"r' = (Delta/(pi*tau) + 2.0*r*v)/tau\",\n",
    "    \"v' = (v^2 + eta + I_ext - (pi*tau*r)^2)/tau + (v_e - v)*g_e + (v_i - v)*g_i\",\n",
    "    \"g_e' = r_e - g_e/tau_e\",\n",
    "    \"g_i' = r_i - g_i/tau_i\"\n",
    "]\n",
    "variables = {\n",
    "    \"r\": \"output(0.0)\",\n",
    "    \"v\": \"variable(0.0)\",\n",
    "    \"g_e\": \"variable(0.0)\",\n",
    "    \"g_i\": \"variable(0.0)\",\n",
    "    \"Delta\": 1.0,\n",
    "    \"tau\": 1.0,\n",
    "    \"eta\": 0.0,\n",
    "    \"v_e\": 5.0,\n",
    "    \"v_i\": -10.0,\n",
    "    \"tau_e\": 10.0,\n",
    "    \"tau_i\": 5.0,\n",
    "    \"I_ext\": \"input(0.0)\",\n",
    "    \"r_e\": \"input(0.0)\",\n",
    "    \"r_i\": \"input(0.0)\"\n",
    "}\n",
    "op = OperatorTemplate(name=\"qif\", equations=eqs, variables=variables, path=None)\n",
    "\n",
    "# define QIF node\n",
    "node = NodeTemplate(name=\"qif_node\", operators=[op], path=None)"
   ]
  },
  {
   "cell_type": "code",
   "execution_count": 102,
   "id": "ab49a3fe",
   "metadata": {},
   "outputs": [
    {
     "data": {
      "text/plain": [
       "<CircuitTemplate 'None'>"
      ]
     },
     "execution_count": 102,
     "metadata": {},
     "output_type": "execute_result"
    }
   ],
   "source": [
    "# define STN-GPe network\n",
    "edges = [\n",
    "    (\"stn/qif/r\", \"stn/qif/r_e\", None, {\"weight\": 0.2, \"delay\": 1.0, \"spread\": 0.5}),\n",
    "    (\"stn/qif/r\", \"gpe/qif/r_e\", None, {\"weight\": 2.0, \"delay\": 2.5, \"spread\": 0.8}),  # \"delay\": 2.5, \"spread\": 0.8\n",
    "    (\"gpe/qif/r\", \"stn/qif/r_i\", None, {\"weight\": 3.0, \"delay\": 2.0, \"spread\": 0.7}),  # \"delay\": 2.0, \"spread\": 0.7\n",
    "    (\"gpe/qif/r\", \"gpe/qif/r_i\", None, {\"weight\": 1.0, \"delay\": 3.0, \"spread\": 1.0})   # \"delay\": 3.0, \"spread\": 1.0\n",
    "]\n",
    "stn_gpe = CircuitTemplate(name=\"qif\", nodes={\"stn\": node, \"gpe\": node}, edges=edges, path=None)\n",
    "\n",
    "# adjust parameters\n",
    "stn_gpe.update_var(node_vars={\n",
    "    \"stn/qif/tau\": 10.0,\n",
    "    \"gpe/qif/tau\": 15.0,\n",
    "    \"stn/qif/eta\": 4.0,\n",
    "    \"gpe/qif/eta\": -10.0,\n",
    "    \"stn/qif/Delta\": 1.0,\n",
    "    \"gpe/qif/Delta\": 5.0,\n",
    "})"
   ]
  },
  {
   "cell_type": "code",
   "execution_count": 103,
   "id": "2fda3e42",
   "metadata": {},
   "outputs": [
    {
     "name": "stdout",
     "output_type": "stream",
     "text": [
      "Compilation Progress\n",
      "--------------------\n",
      "\t(1) Translating the circuit template into a networkx graph representation...\n",
      "\t\t...finished.\n",
      "\t(2) Preprocessing edge transmission operations...\n",
      "\t\t...finished.\n",
      "\t(3) Parsing the model equations into a compute graph...\n",
      "\t\t...finished.\n",
      "\tModel compilation was finished.\n",
      "Simulation Progress\n",
      "-------------------\n",
      "\t (1) Generating the network run function...\n",
      "\t (2) Processing output variables...\n",
      "\t\t...finished.\n",
      "\t (3) Running the simulation...\n",
      "\t\t...finished after 8.489066255002399s.\n"
     ]
    }
   ],
   "source": [
    "# simulation parameters\n",
    "T = 1000.0\n",
    "T_on = 200.0\n",
    "T_off = 800.0\n",
    "dt = 1e-3\n",
    "dts = 1e-2\n",
    "\n",
    "# input definition\n",
    "steps = int(np.round(T/dt))\n",
    "start = int(np.round(T_on/dt))\n",
    "stop = int(np.round(T_off/dt))\n",
    "inp = np.zeros((steps,))\n",
    "inp[start:stop] = 40.0\n",
    "I_ext = gaussian_filter1d(inp, 50)\n",
    "\n",
    "# perform simulation\n",
    "res = stn_gpe.run(simulation_time=T, step_size=dt, sampling_step_size=dts, solver=\"scipy\", method=\"LSODA\",\n",
    "                  outputs={\"stn\": \"stn/qif/r\", \"gpe\": \"gpe/qif/r\"}, inputs={\"gpe/qif/I_ext\": inp})\n",
    "clear(stn_gpe)"
   ]
  },
  {
   "cell_type": "code",
   "execution_count": 104,
   "id": "99f3d86e",
   "metadata": {},
   "outputs": [
    {
     "data": {
      "text/plain": [
       "Text(0.5, 1.0, 'gpe')"
      ]
     },
     "execution_count": 104,
     "metadata": {},
     "output_type": "execute_result"
    },
    {
     "data": {
      "image/png": "[encoded data removed]",
      "text/plain": [
       "<Figure size 864x432 with 2 Axes>"
      ]
     },
     "metadata": {
      "needs_background": "light"
     },
     "output_type": "display_data"
    }
   ],
   "source": [
    "fig, axes = plt.subplots(ncols=2, figsize=(12, 6))\n",
    "ax = axes[0]\n",
    "ax.plot(res[\"stn\"]*1e3)\n",
    "ax.set_ylabel(\"r\")\n",
    "ax.set_title(\"stn\")\n",
    "#ax.set_ylim([0.0, 50.0])\n",
    "ax = axes[1]\n",
    "ax.plot(res[\"gpe\"]*1e3, \"orange\")\n",
    "ax.set_ylabel(\"r\")\n",
    "ax.set_title(\"gpe\")"
   ]
  },
  {
   "cell_type": "code",
   "execution_count": null,
   "id": "02ba74a5",
   "metadata": {},
   "outputs": [],
   "source": []
  }
 ],
 "metadata": {
  "kernelspec": {
   "display_name": "Python 3 (ipykernel)",
   "language": "python",
   "name": "python3"
  },
  "language_info": {
   "codemirror_mode": {
    "name": "ipython",
    "version": 3
   },
   "file_extension": ".py",
   "mimetype": "text/x-python",
   "name": "python",
   "nbconvert_exporter": "python",
   "pygments_lexer": "ipython3",
   "version": "3.8.12"
  }
 },
 "nbformat": 4,
 "nbformat_minor": 5
}
