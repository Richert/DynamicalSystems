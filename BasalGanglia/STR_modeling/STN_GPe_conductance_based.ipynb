{
 "cells": [
  {
   "cell_type": "code",
   "execution_count": 94,
   "id": "42034a58",
   "metadata": {},
   "outputs": [],
   "source": [
    "import numpy as np\n",
    "import matplotlib.pyplot as plt\n",
    "from scipy.ndimage import gaussian_filter1d\n",
    "from pyrates import OperatorTemplate, NodeTemplate, CircuitTemplate, clear\n",
    "\n",
    "%matplotlib inline"
   ]
  },
  {
   "cell_type": "code",
   "execution_count": 95,
   "id": "73619aca",
   "metadata": {},
   "outputs": [],
   "source": [
    "# define QIF operator with conductance-based synapses\n",
    "eqs = [\n",
    "    \"r' = (Delta/(pi*tau) + 2.0*r*v) / tau\",\n",
    "    \"v' = (v^2 + eta + I_ext - (pi*tau*r)^2)/tau + (v_e - v)*g_e + (v_i - v)*g_i\",\n",
    "    \"g_e' = r_e - g_e/tau_e\",\n",
    "    \"g_i' = r_i - g_i/tau_i\"\n",
    "]\n",
    "variables = {\n",
    "    \"r\": \"output(0.0)\",\n",
    "    \"v\": \"variable(0.0)\",\n",
    "    \"g_e\": \"variable(0.0)\",\n",
    "    \"g_i\": \"variable(0.0)\",\n",
    "    \"Delta\": 1.0,\n",
    "    \"tau\": 1.0,\n",
    "    \"eta\": -3.0,\n",
    "    \"v_e\": 4.0,\n",
    "    \"v_i\": -4.0,\n",
    "    \"tau_e\": 0.5,\n",
    "    \"tau_i\": 2.0,\n",
    "    \"I_ext\": \"input(0.0)\",\n",
    "    \"r_e\": \"input(0.0)\",\n",
    "    \"r_i\": \"input(0.0)\"\n",
    "}\n",
    "op = OperatorTemplate(name=\"qif\", equations=eqs, variables=variables, path=None)\n",
    "\n",
    "# define QIF node\n",
    "node = NodeTemplate(name=\"qif_node\", operators=[op], path=None)"
   ]
  },
  {
   "cell_type": "code",
   "execution_count": 105,
   "id": "1cda46c1",
   "metadata": {},
   "outputs": [
    {
     "data": {
      "text/plain": [
       "<CircuitTemplate 'None'>"
      ]
     },
     "execution_count": 105,
     "metadata": {},
     "output_type": "execute_result"
    }
   ],
   "source": [
    "# define STN-GPe network\n",
    "edges = [\n",
    "    (\"stn/qif/r\", \"gpe/qif/r_e\", None, {\"weight\": 2.5, \"delay\": 2.4, \"spread\": 0.8}),\n",
    "    (\"gpe/qif/r\", \"stn/qif/r_i\", None, {\"weight\": 1.0, \"delay\": 1.5, \"spread\": 0.5}),  # \"weight\": 1.0\n",
    "    (\"gpe/qif/r\", \"gpe/qif/r_i\", None, {\"weight\": 0.5, \"delay\": 4.0, \"spread\": 1.0})\n",
    "]\n",
    "stn_gpe = CircuitTemplate(name=\"qif\", nodes={\"stn\": node, \"gpe\": node}, edges=edges, path=None)\n",
    "\n",
    "# adjust parameters\n",
    "stn_gpe.update_var(node_vars={\n",
    "    \"stn/qif/tau\": 13.0,\n",
    "    \"gpe/qif/tau\": 16.0,\n",
    "    \"stn/qif/eta\": 1.0,\n",
    "    \"gpe/qif/eta\": -8.0,\n",
    "    \"stn/qif/Delta\": 1.0,\n",
    "    \"gpe/qif/Delta\": 3.0,\n",
    "    \"stn/qif/tau_e\": 10.0,\n",
    "    \"gpe/qif/tau_e\": 10.0,\n",
    "    \"stn/qif/tau_i\": 8.0,\n",
    "    \"gpe/qif/tau_i\": 8.0,\n",
    "})"
   ]
  },
  {
   "cell_type": "code",
   "execution_count": 112,
   "id": "9a669bef",
   "metadata": {},
   "outputs": [
    {
     "name": "stdout",
     "output_type": "stream",
     "text": [
      "Compilation Progress\n",
      "--------------------\n",
      "\t(1) Translating the circuit template into a networkx graph representation...\n",
      "\t\t...finished.\n",
      "\t(2) Preprocessing edge transmission operations...\n",
      "\t\t...finished.\n",
      "\t(3) Parsing the model equations into a compute graph...\n",
      "\t\t...finished.\n",
      "\tModel compilation was finished.\n",
      "Simulation Progress\n",
      "-------------------\n",
      "\t (1) Generating the network run function...\n",
      "\t (2) Processing output variables...\n",
      "\t\t...finished.\n",
      "\t (3) Running the simulation...\n",
      "\t\t...finished after 16.57826490000025s.\n"
     ]
    }
   ],
   "source": [
    "# simulation parameters\n",
    "T = 1000.0\n",
    "T_on = 200.0\n",
    "T_off = 600.0\n",
    "dt = 1e-3\n",
    "dts = 1e-2\n",
    "\n",
    "# input definition\n",
    "steps = int(np.round(T/dt))\n",
    "start = int(np.round(T_on/dt))\n",
    "stop = int(np.round(T_off/dt))\n",
    "inp = np.zeros((steps,))\n",
    "inp[start:stop] = 8.0\n",
    "I_ext = gaussian_filter1d(inp, 50)\n",
    "\n",
    "# perform simulation\n",
    "res = stn_gpe.run(simulation_time=T, step_size=dt, sampling_step_size=dts, solver=\"scipy\", method=\"LSODA\",\n",
    "                  outputs={\"stn\": \"stn/qif/r\", \"gpe\": \"gpe/qif/r\"}, inputs={\"stn/qif/I_ext\": inp}, max_step=10)\n",
    "clear(stn_gpe)"
   ]
  },
  {
   "cell_type": "code",
   "execution_count": 113,
   "id": "8e51bb34",
   "metadata": {},
   "outputs": [
    {
     "data": {
      "text/plain": [
       "<matplotlib.legend.Legend at 0x1e5a9d14fa0>"
      ]
     },
     "execution_count": 113,
     "metadata": {},
     "output_type": "execute_result"
    },
    {
     "data": {
      "image/png": "[encoded data removed]",
      "text/plain": [
       "<Figure size 864x432 with 1 Axes>"
      ]
     },
     "metadata": {
      "needs_background": "light"
     },
     "output_type": "display_data"
    }
   ],
   "source": [
    "fig, ax = plt.subplots(figsize=(12, 6))\n",
    "ax.plot(res*1e3)\n",
    "ax.set_ylabel(\"r\")\n",
    "ax.set_ylim([0.0, 100.0])\n",
    "plt.legend(res.columns.values)"
   ]
  },
  {
   "cell_type": "markdown",
   "id": "cccc8c63",
   "metadata": {},
   "source": [
    "- STN-GPe system with conductance vs. current-based synapses\n",
    "- STN-GPe system with vs. without spike synchronization\n",
    "- STN-GPe system with vs. without synaptic plasticity\n",
    "- PD: Any of the de-synchronizing mechanisms affected by dopamine depletion?"
   ]
  }
 ],
 "metadata": {
  "kernelspec": {
   "display_name": "Python 3 (ipykernel)",
   "language": "python",
   "name": "python3"
  },
  "language_info": {
   "codemirror_mode": {
    "name": "ipython",
    "version": 3
   },
   "file_extension": ".py",
   "mimetype": "text/x-python",
   "name": "python",
   "nbconvert_exporter": "python",
   "pygments_lexer": "ipython3",
   "version": "3.9.7"
  }
 },
 "nbformat": 4,
 "nbformat_minor": 5
}
