{
 "cells": [
  {
   "cell_type": "markdown",
   "id": "8fb8abb3",
   "metadata": {},
   "source": [
    "<span style=\"color:red\"> Computational Role of Striatal Feedback Inhibition\n",
    "=========================================\n",
    "\n",
    "Here, we summarize findings in the literature on the computational role of recurrent connections between spiny projections neurons (SPNs) in the striatum (STR) versus feed-forward inhibition via fast-spiking interneurons (FSIs) or feed-forward excitation via the cortex or thalamus."
   ]
  },
  {
   "cell_type": "markdown",
   "id": "7bac96c4",
   "metadata": {},
   "source": [
    "## <span style=\"color:blue\"> 1. Experimental findings"
   ]
  },
  {
   "cell_type": "markdown",
   "id": "a41ab90c",
   "metadata": {},
   "source": [
    "### Alexander et al. (1987, 1985)\n",
    "\n",
    "- movement-related activity of SPN neurons emerges in clusters of cells\n",
    "- activation of these cell clusters elicited discrete movements of indivual body parts in primates"
   ]
  },
  {
   "cell_type": "markdown",
   "id": "7fdfcc40",
   "metadata": {},
   "source": [
    "### Wickens and Oorshot (2000) Brain Dynamics and the Striatal Complex\n",
    "\n",
    "- theory of mutual inhibition between SPNs\n",
    "- competition between SPNs leads to selection of actions\n",
    "- discusses the modulatory role of dopamine and acetylcholine on this competition structure (high dopamine supports mutual inhibition whereas high acetylcholine attenuates mutual inhibition) "
   ]
  },
  {
   "cell_type": "markdown",
   "id": "d5823a33",
   "metadata": {},
   "source": [
    "### Barnes et al. (2005) Nature\n",
    "\n",
    "- SPN cell assemblies that are task-responsive or unresponsive form dynamically in rat STR during habit acquisition task\n",
    "- clusters form and can be extinguished as well as re-established\n",
    "- unclear whether driven by corticostriatal plasticity or SPN-to-SPN connectivity changes"
   ]
  },
  {
   "cell_type": "markdown",
   "id": "6032594f",
   "metadata": {},
   "source": [
    "### Wilson, C.J. (2007) Progress in Brain Research\n",
    "\n",
    "- review on GABAergic inhibition in the STR\n",
    "- GABAergic inhibition from interneurons is purely feed-forward\n",
    "    - single SPN receives input from only a few interneurons\n",
    "    - interneurons target soma of SPNs and form powerful synapses\n",
    "- feedback GABAergic inhibition arises from SPN axon collaterals\n",
    "    - single SPN receives input from many other SPNs in its vicinity\n",
    "    - SPNs target distal dendrites and form weak synapses\n",
    "- suggests that feed-forward inhibition from interneurons serves a classic inhibition role (delaying spike timings) whereas SPN feedback plays a more complex role of changing the electrotonic structure of other SPNs\n",
    "- feedback inhibition is too weak for a single SPN to seriously inhibit neighboring neurons\n",
    "- local groups of simultaneously active cells might create a sufficiently powerful inhibitory signal though to inhibit neighboring groups\n",
    "- functional implications of weak feedback and powerful, non-convergent feed-forward inhibition are unknown\n",
    "- the strongly hyperpolarized resting potential of SPNs implies that GABAergic input at that resting potential will have a depolarizing effect\n",
    "- near action potential threshold, GABAergic input will hyperpolarize the cell as expected"
   ]
  },
  {
   "cell_type": "markdown",
   "id": "3aff38cc",
   "metadata": {},
   "source": [
    "### Taverna et al. (2008) Journal of Neuroscience\n",
    "\n",
    "- D2-SPNs show stronger synaptic coupling with other SPNs than D1-SPNs\n",
    "- recurrent connectivity between SPNs is strongly diminished in PD"
   ]
  },
  {
   "cell_type": "markdown",
   "id": "44d8f73d",
   "metadata": {},
   "source": [
    "### Miller et al. (2008) Journal of Neurophysiology\n",
    "\n",
    "- STR recordings in WT and HD mice during behavior\n",
    "- changes in average firing rate and firing regularity: Higher firing rates at lower regularity in HD compared to WT\n",
    "- STR dynamics express correlated bursting patterns in WT that become diminished in HD"
   ]
  },
  {
   "cell_type": "markdown",
   "id": "267d2758",
   "metadata": {},
   "source": [
    "### Carrillo-Reid et al (2008) Journal of Neurophysiology\n",
    "\n",
    "- calcium imaging in corticostriatal slice preparation paired with electrophysiological recordings from SPNs\n",
    "- demonstrate cluster formation / synchronization of SPNs in slice preparation upon cortical stimulation\n",
    "- demonstrate cluster formation / synchronization of small SPN groups upon NMDA bath application\n",
    "- NMDA and GABA signalling are crucial for cluster formation / synchronization\n",
    "- importantly, cluster formation does not depend on cluster-specific input. Global NMDA excitation in interaction with GABAergic connections between SPNs drives cluster formation"
   ]
  },
  {
   "cell_type": "markdown",
   "id": "d80ac93b",
   "metadata": {},
   "source": [
    "### Planert et al. (2010) Journal of Neuroscience\n",
    "\n",
    "- report IPSC amplitudes of SPN -> SPN and FSI -> SPN synapses\n",
    "- quantification of synaptic dynamics and plasticity\n",
    "- FSI synapses are purely depressing, whereas SPN synapses are show diverse properties with a tendency for facilitation\n",
    "- D2-SPNs form more synaptic connections with other SPNs than D1-SPNs\n",
    "- FSIs do not express a strong preference for either SPN type"
   ]
  },
  {
   "cell_type": "markdown",
   "id": "30aace5a",
   "metadata": {},
   "source": [
    "### Gitties et al. (2010) Journal of Neuroscience\n",
    "\n",
    "- FSIs form depressing synapses onto SPNs\n",
    "- FSIs preferentially target D1-SPNs over D2-SPNs"
   ]
  },
  {
   "cell_type": "markdown",
   "id": "e535a2f9",
   "metadata": {},
   "source": [
    "### Adler et al (2012) Journal of Neuroscience\n",
    "\n",
    "- Recordings from SPNs, TANs, and GPe-p neurons in monkeys during behavior\n",
    "- identified 3 clusters of SPNs with distinct response profiles during task\n",
    "- TANs displayed a homogeneous, global response pattern\n",
    "- SPN clusters do not reflect cell-intrinsic properties or spatial separation\n",
    "- SPN cluster formation is dynamic (cells participate in different clusters during different stages of a task)"
   ]
  },
  {
   "cell_type": "markdown",
   "id": "31f81256",
   "metadata": {},
   "source": [
    "### Barbera et al. (2016) Neuron\n",
    "\n",
    "- spatially constrained clusters of D1- and D2-SPNs can be identified during locomotion tasks in rodents\n",
    "- clusters in both cell types expressed similar correlations with locomotion, thus challenging theories of anti- vs. pro-kinetic effects of the different STR pathways\n",
    "- could decode behavioral state of mouse from SPN cluster activity"
   ]
  },
  {
   "cell_type": "markdown",
   "id": "c5f3249b",
   "metadata": {},
   "source": [
    "### Bakhurin et al (2016) Journal of Neurophysiology\n",
    "\n",
    "- recordings from SPNs, FSIs and TANs in mice during pavlovian conditioning task\n",
    "- show formation of striatal ensembles that discriminate between cues and show correlated, increased activity in comparison to non-discriminatory SPNs\n",
    "- correlated activity between FSIs and feed-forward modulation of SPN activity\n",
    "- SPN peak activity sorting reveals SPN activity throughout entire task"
   ]
  },
  {
   "cell_type": "markdown",
   "id": "b8169f14",
   "metadata": {},
   "source": [
    "### Dobbs et al. (2016) Neuron\n",
    "\n",
    "- synchronized iSPN activation produces significant inhibition of dSPN firing rates\n",
    "- gabazine leads to increased SPN firing rates and loss of iSPN inhibition of dSPN firing rates\n",
    "- D2 agonist leads to reduced iSPN inhibition of dSPN firing rates (effect is stronger than in pallidum)\n",
    "- D2 agonist acts at synapses rather than directly on iSPNs\n"
   ]
  },
  {
   "cell_type": "markdown",
   "id": "a10123f6",
   "metadata": {},
   "source": [
    "### Klaus et al (2017) Neuron\n",
    "\n",
    "- local, correlated activity of SPNs during movement\n",
    "- less spatially distinct clusters than reported by Barbera et al. (2016)\n",
    "- some long-range connections could even exist between SPNs\n",
    "- propose that SPN clusters encode a map of action space"
   ]
  },
  {
   "cell_type": "markdown",
   "id": "4f7ee3c4",
   "metadata": {},
   "source": [
    "### Burke et al. (2017) Neuron\n",
    "\n",
    "- review on STR cell types\n",
    "- review on role of SPNs in behavior and learning\n",
    "- recent data cast suggest that both D1- and D2-SPN activity are relevant for motivated behavior, casting doubt on the pro- vs. anti-kinetic hypothesis\n",
    "- recent data question the theory that D1- and D2-SPNs receive inputs from separate cortical layers/regions\n",
    "- thalamic projections to STR seems to gate cortico-striatal information flow\n",
    "- cortico-striatal projections can be both excitatory as well as inhibitory (Rock et al. 2016)\n",
    "- each SPN receives around 1000-2000 synaptic contacts from other SPNs, allowing collaterals to shape network dynamics\n",
    "- computational studies assumed random connectivity and should incorporate recent data on SPN connectivity\n",
    "- *Hypotheses:* \n",
    "    - SPNs seem to express functional units that can drive distinct behaviors\n",
    "    - SPN lateral inhibition plays a critical role in this functional organization\n",
    "    - each functional unit consists of D1- and D2-SPNs that are interconnected with each other as well as neighboring functional units\n",
    "    - D2-SPNs mostly provide inhibition of neighboring units\n",
    "    - dopamine controls this D2-mediated gating process by attenuating the D2-SPN inhibition\n",
    "    "
   ]
  },
  {
   "cell_type": "markdown",
   "id": "296e7df7",
   "metadata": {},
   "source": [
    "### Gage et al. (2018) Neuron\n",
    "\n",
    "- recordings from M1, SPNs, FSIs, and GP in rats during task involving choice, movement and reward\n",
    "- FSIs show global activity during choice, accompanied by decreased GP activity\n",
    "- MSNs express activity throughout entire task\n",
    "- Role of FSIs might be related to global setting of STR regime rather than individual neuron's actions"
   ]
  },
  {
   "cell_type": "markdown",
   "id": "4e53c0e0",
   "metadata": {},
   "source": [
    "### Gritton et al. (2019) Nature Neuroscience\n",
    "\n",
    "- Recorded from SPNs in freely moving mice while controlling FSI and TAN signalling\n",
    "- increased SPN activity during movement periods\n",
    "- report small, but significant synchronization between local SPNs during movement\n",
    "- small, local clusters of synchronized SPNs emerge in movement periods\n",
    "- correlation distances are reported for SPNs, FSIs and TANs\n",
    "- FSIs but not TANS predict locomotion speed and SPN population activity\n",
    "- FSI activation seems to de-synchronize SPN activity and preceeds SPN activation at movement onset"
   ]
  },
  {
   "cell_type": "markdown",
   "id": "a5f6130b",
   "metadata": {},
   "source": [
    "### Sheng et al. (2019) PNAS\n",
    "\n",
    "- recordings from same D1- and D2-SPNs in mice performing a cued lever-pressing task\n",
    "- formation of sequential firing chains of D1 as well as D2 SPNs with distinct response profiles after task acquisition\n",
    "- sequential firing was specific to the learned behavior\n",
    "- inhibiting D1 or D2 SPNs impaired the learned behavior"
   ]
  },
  {
   "cell_type": "markdown",
   "id": "23a308f7",
   "metadata": {},
   "source": [
    "### Peters et al. (2021) Nature\n",
    "\n",
    "- both SPN and FSI activity topographically reflects cortical activity\n",
    "- cortical activity seems to drive STR activity (causality)\n",
    "- training increased STR response to cortical input"
   ]
  },
  {
   "cell_type": "markdown",
   "id": "8989755d",
   "metadata": {},
   "source": [
    "### Maltese et al. (2021) eLife\n",
    "\n",
    "- calcium imaging of D1 and D2 SPNs from behaving mice\n",
    "- no difference in average firing rates and how they scale with movement between D1 and D2 SPNs\n",
    "- DA levels distinctively affect the ensemble sizes of D1 vs. D2 SPNs that form during behavior"
   ]
  },
  {
   "cell_type": "markdown",
   "id": "291fbdfd",
   "metadata": {},
   "source": [
    "### Lopez-Huerta et al. (2021) Cell Reports\n",
    "\n",
    "- Recordings from D1- and D2-SPNs in mice performing a trained reaching and grasping task\n",
    "- D1-SPNs encode trajectory whereas D2-SPNs encode the movement target\n",
    "- Acquiring the movement comes with specific plastic changes to SPN connectivity"
   ]
  },
  {
   "cell_type": "markdown",
   "id": "07b1a976",
   "metadata": {},
   "source": [
    "## <span style=\"color:blue\"> 2. Theoretical and Computational Studies"
   ]
  },
  {
   "cell_type": "markdown",
   "id": "92755f0b",
   "metadata": {},
   "source": [
    "### Wickens et al. (2007) Progress in Brain Research\n",
    "\n",
    "- review of literature on lateral inhibition and winner-takes-all dynamics\n",
    "- discusses the possibility of WTA dynamics in STR based on experimental literature\n",
    "- studies network of interconnected SPNs within a natural firing regime\n",
    "- provides estimates for network parameters such as connection probability, synaptic conductances, time constants, and reversal potentials (GABA: approx. -60 mV)\n",
    "- finds that weak lateral inhibition still serves to control overall SPN activity levels, i.e. mostly affects the macroscopic state of the SPN network"
   ]
  },
  {
   "cell_type": "markdown",
   "id": "66cc8804",
   "metadata": {},
   "source": [
    "### Humphries et al. (2009) Frontiers in Computational Neuroscience\n",
    "\n",
    "- analysis of a reduced Izhikevich type neuron of SPNs\n",
    "- added dopaminergic modulation to the SPN neuron model\n",
    "- Comparison of reduced neuron model to compartmental SPN models\n",
    "- predicts that dopamine mostly acts via synaptic modifications and less so via membrane property changes\n",
    "- predicts that MSN neurons are actually not bistable "
   ]
  },
  {
   "cell_type": "markdown",
   "id": "2170f5c7",
   "metadata": {},
   "source": [
    "### Humphries et al. (2009) Neural Networks\n",
    "\n",
    "- aim: Identifying the computational role of feedback inhibition between SPNs vs. feedforward inhibition from FSIs\n",
    "- model: 3D network model of SPNs and FSIs with physiologically informed coupling patterns\n",
    "- extensive set of neuron and network parameters reported\n",
    "- find that clusters of synchronized SPNs spontaneously appear under normal background stimulation conditions\n",
    "- show that the emergence of these clusters depends on dopamine levels (higher dopamine levels led to less synchrony)\n",
    "- show that feed-forward GABAergic input from FSIs to SPNs increases their firing rate\n",
    "- show that FSIs de-synchronized SPN activity in the model\n",
    "- show that feedforward signalling from FSIs dominates over SPN feedback in the model"
   ]
  },
  {
   "cell_type": "markdown",
   "id": "c3d56956",
   "metadata": {},
   "source": [
    "### Damodaran et al. (2014) Journal of Neurophysiology\n",
    "\n",
    "- network model of interconnected D1- and D2-SPNs and FSIs\n",
    "- distance-based coupling function between neurons\n",
    "- heterogeneous single cells\n",
    "- random assignment to D1 or D2 group\n",
    "- parameters reported for synaptic connection probabilities and dynamics\n",
    "- distance-based transmission velocities\n",
    "- input via poisson spike trains (they report a probability for the input sharing between STR neurons)\n",
    "- *Findings*:\n",
    "    - balanced activity of D1- and D2-SPNs despite different f-I curves of the two neuron types\n",
    "    - FSI feed-forward inhibition ensured balanced firing of SPNs\n",
    "    - this balancing effect did not depend so much on the properties of the FSI-to-MSN synapses but rather on the properties of the FSI-to-FSI coupling (gap junctions)\n",
    "    - removal of FSIs also reduced SPN synchrony in the model"
   ]
  },
  {
   "cell_type": "markdown",
   "id": "e0720d55",
   "metadata": {},
   "source": [
    "### Moyer et al. (2014) Frontiers in Computational Neuroscience\n",
    "\n",
    "- study of the effects of SPN feedback vs. FSI feedforward inhibition in compartmental neural network model"
   ]
  },
  {
   "cell_type": "markdown",
   "id": "4131fef1",
   "metadata": {},
   "source": [
    "### Toledo-Suarez et al. (2014) Frontiers in Computational Neuroscience\n",
    "\n",
    "- Reservoir network of SPNs and FSIs with realistic connectivity\n",
    "- tuned the model to show relatively plausible averagea firing rates and ISIs\n",
    "- tested how well the model encodes different input patterns (trained to reproduce the input)\n",
    "- *Key finding:* Purely inhibitory network with realistic striatal connectivities can perform meaningful computations\n",
    "- *Open questions:*\n",
    "    - Network has not been trained to reproduce realistic spatiotemporal dynamics of STR activity (thus unclear whether the activity patterns produced under different input conditions actually reflect striatal SPN activation)\n",
    "    - How does the network performance depend on SPN-to-SPN connections vs. FSI-to-SPN connections?\n",
    "    - How does the network performance depend on dopamine depletion?\n",
    "    - How optimal or non-optimal is the striatal activiry regime for encoding/decoding operations?"
   ]
  },
  {
   "cell_type": "markdown",
   "id": "a9223a69",
   "metadata": {},
   "source": [
    "### Bahuguna et al. (2015) PLOS CB\n",
    "\n",
    "- firing rate model of D1- and D2-SPNs and FSIs\n",
    "- examined effects of asymmetrical activity on model dynamics and found that it promotes a \"threshold\" regime where the cortical input to D1-SPNs has to overcome a certain threshold to induce an action\n",
    "- STR as a switching device between a go and a no-go path (way to simplified, no analysis of spatiotemporal spiking activity, only focus is symmetry vs. asymmetry)"
   ]
  },
  {
   "cell_type": "markdown",
   "id": "0f0caef8",
   "metadata": {},
   "source": [
    "### Corbit et al. (2016) Journal of Neuroscience\n",
    "\n",
    "- spiking neural network model of GPe-p, SPNs and FSIs\n",
    "- used model to explain emergence of beta oscillations in PD\n",
    "- predicts that pallidostriatal feedback to FSIs is key component in beta oscillation generation, basically controlling an FSI population that provides enhanced inhibition to SPNs in PD"
   ]
  },
  {
   "cell_type": "markdown",
   "id": "cd9e1e45",
   "metadata": {},
   "source": [
    "### Angulo-Garcia et al. (2016) PLOS CB\n",
    "\n",
    "- striatal network model composed of coupled LIF neurons with alpha-kernel synapses (only modeling SPN interactions)\n",
    "- they tune model to express the following dynamics:\n",
    "    - spatiotemporal cluster formation\n",
    "    - negative correlations of firing rate fluctuations between different clusters\n",
    "- introduction of a metric for identifying cluster synchronization in the network\n",
    "- investigation of the effect of mean coupling strength on cluster formation / synchronization in network\n",
    "- investigation of the effects of the synaptic time scale on cluster formation / synchronization in the network\n",
    "- they show that the network produces two distinct output patterns (reliably) in terms of the cell firing in response to two different inputs"
   ]
  },
  {
   "cell_type": "markdown",
   "id": "3c0ec4d3",
   "metadata": {},
   "source": [
    "### Yim et al. (2016) PLOS CB\n",
    "\n",
    "- STR network model of SPNs and FSIs, using LIF neurons with subthreshold oscillations (conductance dynamics) and alpha synapses\n",
    "- findings are relatively irrelevant (high SNR is better than low SNR)\n",
    "- parameters could be re-used though"
   ]
  },
  {
   "cell_type": "markdown",
   "id": "f880745c",
   "metadata": {},
   "source": [
    "### Belic et al. (2017) PLOS ONE\n",
    "\n",
    "- computational model of recurrently connected SPNs, receiving input from cortex and FSIs\n",
    "- oscillatory cortical drive was applied either to SPNs or FSIs\n",
    "- show that cortical oscillations are more effectively transferred to STR activity if conveyed via FSIs"
   ]
  },
  {
   "cell_type": "markdown",
   "id": "d1d15d58",
   "metadata": {},
   "source": [
    "### Kim and Chow (2017) eLife\n",
    "\n",
    "- network of recurrently coupled QIF neurons\n",
    "- trained intrinsic connections via recursive least-squares algorithm\n",
    "- were able to approximate arbitrary patterns of spatiotemporal network dynamics via fitting procedure\n",
    "- **GOTO METHOD FOR FITTING STR MODEL TO DATA**"
   ]
  },
  {
   "cell_type": "markdown",
   "id": "ceaccc2e",
   "metadata": {},
   "source": [
    "### Spreitzer et al. (2017) eNeuro\n",
    "\n",
    "- network model of interconnected SPNs spaced on a 2D grid\n",
    "- distance-dependent coupling based on connectivity kernel\n",
    "- gaussian kernel does not allow for transient synchronization regimes with bumps (only AI regime)\n",
    "- gamma kernel does allow for emergence of transient bumps\n",
    "- authors identify non-monotonous decay of coupling probability as key ingredient to reproduce spatiotemporal dynamics of SPNs during behavior"
   ]
  },
  {
   "cell_type": "markdown",
   "id": "b275dd82",
   "metadata": {},
   "source": [
    "### Ardid et al. (2019) PNAS\n",
    "\n",
    "- network model of SPNs, driven by cortical input\n",
    "- examined switching dynamics between pathways under different input conditions (static and oscillatory at different frequencies)\n",
    "- shows how the pathway switching is frequency selective"
   ]
  },
  {
   "cell_type": "markdown",
   "id": "81dbb9a1",
   "metadata": {},
   "source": [
    "### Ponzi et al. (2010, 2012, 2013, 2020)\n",
    "\n",
    "- SPN network modeling using an Izhikevich SPN neuron model and random connections between SPNs\n",
    "- SNIC bifurcation as model of SPN activity in the up-state\n",
    "- conductance-based synapses\n",
    "- investigation of the role of SPN feedback connections on spatio-temporal cluster formation under constant/noisy cortical input\n",
    "- Findings:\n",
    "    - sparse random connections favour cluster formation in comparison to dense connections\n",
    "    - spontaneous switching between clusters in response to both constant and noisy input\n",
    "    - power-law distribution of ISIs for SPN cells in the up-state receiving random input\n",
    "    - broadly distributed coefficients of variation of the ISIs\n",
    "    - cluster formation happens on behaviorally relevant time scales\n",
    "    - upon random input, clusters can respond reliably to specific inputs, i.e. express receptive fields\n",
    "    - propose that 10-20 % connection probability is optimal for cluster formation, as it poses STR near a phase transition where critical dynamics emerge that can be employed by cortex to reliably drive sequences of cluster activation\n",
    "    - model can fit macroscopic spiking statistics of neural recordings from WT and HD mice\n",
    "    - differences between WT and HD can be fit via adjustments of the E-I ratio\n",
    "    \n",
    "    \n",
    "    \n",
    "    "
   ]
  },
  {
   "cell_type": "markdown",
   "id": "5ee4935c",
   "metadata": {},
   "source": [
    "### Hjorth et al. (2020) PNAS\n",
    "\n",
    "- full-scale model of the striatal microcircuit and its inputs\n",
    "- many relevant parameters for intrinsic neuron properties, connection profiles, synaptic properties, and dopaminergic/cholinergic action on the circuit elements"
   ]
  },
  {
   "cell_type": "markdown",
   "id": "29dc6b08",
   "metadata": {},
   "source": [
    "### Girard et al. (2020) European Journal of Neuroscience\n",
    "\n",
    "- spiking neural network model of BG\n",
    "- STR contains interconnected SPNs and FSIs\n",
    "- simple 2-channel choice paradigm\n",
    "- performance of model depends on off-centre/on-surround structure of STR connections (see Spreitzer et al. 2017)"
   ]
  },
  {
   "cell_type": "markdown",
   "id": "41dfaee2",
   "metadata": {},
   "source": [
    "## <span style=\"color:blue\"> 3. Own Ideas"
   ]
  },
  {
   "cell_type": "markdown",
   "id": "51203dbb",
   "metadata": {},
   "source": [
    "### Computation in STR\n",
    "\n",
    "- SPNs connected by local axon collaterals as RNN\n",
    "- connections between SPNs can be excitatory in down state or inhibitory in up state\n",
    "- TANs act as filters on connectivity matrix (conceptors)\n",
    "- FSIs can provide local feedforward inhibition of SPN clusters (thus disrupting sequential activation chains), but mostly act via globalized, fast re-setting of SPN activity (can be excitatory if SPNs are in down state)"
   ]
  },
  {
   "cell_type": "code",
   "execution_count": null,
   "id": "192d0cb5",
   "metadata": {},
   "outputs": [],
   "source": []
  },
  {
   "cell_type": "code",
   "execution_count": null,
   "id": "1b9e405e",
   "metadata": {},
   "outputs": [],
   "source": []
  },
  {
   "cell_type": "code",
   "execution_count": null,
   "id": "ac60a08e",
   "metadata": {},
   "outputs": [],
   "source": []
  }
 ],
 "metadata": {
  "kernelspec": {
   "display_name": "Python 3 (ipykernel)",
   "language": "python",
   "name": "python3"
  },
  "language_info": {
   "codemirror_mode": {
    "name": "ipython",
    "version": 3
   },
   "file_extension": ".py",
   "mimetype": "text/x-python",
   "name": "python",
   "nbconvert_exporter": "python",
   "pygments_lexer": "ipython3",
   "version": "3.9.7"
  }
 },
 "nbformat": 4,
 "nbformat_minor": 5
}
