{
 "cells": [
  {
   "cell_type": "code",
   "execution_count": 2,
   "id": "ea04d330",
   "metadata": {},
   "outputs": [],
   "source": [
    "import numpy as np\n",
    "import matplotlib.pyplot as plt\n",
    "\n",
    "%matplotlib inline"
   ]
  },
  {
   "cell_type": "code",
   "execution_count": 9,
   "id": "6b6fc9a6",
   "metadata": {},
   "outputs": [],
   "source": [
    "def get_firing_rate_distr(N, eta, Delta, tau):\n",
    "    \n",
    "    # sample from lorentzian distribution of excitabilities\n",
    "    neurons = np.arange(1, N+1)\n",
    "    etas = eta + Delta*np.tan(0.5*np.pi*(2.0*neurons - N - 1)/(N+1))\n",
    "    \n",
    "    # calculate firing rate from excitability distribution\n",
    "    rates = np.zeros_like(etas)\n",
    "    idx = etas > 0\n",
    "    etas_tmp = etas[idx]\n",
    "    rates[idx] = 1e3*np.sqrt(etas_tmp)/(tau*np.pi)\n",
    "    return rates"
   ]
  },
  {
   "cell_type": "code",
   "execution_count": 38,
   "id": "a493594c",
   "metadata": {},
   "outputs": [],
   "source": [
    "# QIF parameters\n",
    "N = 100000\n",
    "\n",
    "# STN parameters\n",
    "eta_e = 17.0\n",
    "Delta_e = 1.0\n",
    "tau_e = 13.0\n",
    "\n",
    "# GPe parameters\n",
    "eta_i = 25.0\n",
    "Delta_i = 3.0\n",
    "tau_i = 16.0"
   ]
  },
  {
   "cell_type": "code",
   "execution_count": 39,
   "id": "1cad9afc",
   "metadata": {},
   "outputs": [],
   "source": [
    "# calculate population firing rate distributions\n",
    "fr_e = get_firing_rate_distr(N, eta_e, Delta_e, tau_e)\n",
    "fr_i = get_firing_rate_distr(N, eta_i, Delta_i, tau_i)"
   ]
  },
  {
   "cell_type": "code",
   "execution_count": 40,
   "id": "560aaca8",
   "metadata": {},
   "outputs": [
    {
     "data": {
      "text/plain": [
       "Text(0.5, 1.0, 'GPe firing rate distribution')"
      ]
     },
     "execution_count": 40,
     "metadata": {},
     "output_type": "execute_result"
    },
    {
     "data": {
      "image/png": "[encoded data removed]",
      "text/plain": [
       "<Figure size 864x432 with 2 Axes>"
      ]
     },
     "metadata": {
      "needs_background": "light"
     },
     "output_type": "display_data"
    }
   ],
   "source": [
    "fig, axes = plt.subplots(ncols=2, figsize=(12, 6))\n",
    "\n",
    "# histogram parameters\n",
    "n_bins = 1000\n",
    "histtype = 'bar'\n",
    "density = True\n",
    "\n",
    "# plot STN firing rate distribution\n",
    "ax1 = axes[0]\n",
    "ax1.hist(fr_e, n_bins, density=density, histtype=histtype)\n",
    "ax1.set_xlim([0, 200])\n",
    "ax1.set_title('STN firing rate distribution')\n",
    "\n",
    "# plot GPe firing rate distribution\n",
    "ax2 = axes[1]\n",
    "ax2.hist(fr_i, n_bins, density=density, histtype=histtype)\n",
    "ax2.set_xlim([0, 200])\n",
    "ax2.set_title('GPe firing rate distribution')"
   ]
  },
  {
   "cell_type": "code",
   "execution_count": 41,
   "id": "8f777183",
   "metadata": {},
   "outputs": [
    {
     "name": "stdout",
     "output_type": "stream",
     "text": [
      "Mean of STN firing rate: 100.93662076490013 Hz\n",
      "STD of STN firing rate: 1361.1007526844428 Hz\n",
      "Mean of GPe firing rate: 99.56130587692438 Hz\n",
      "STD of GPe firing rate: 2938.869186184974 Hz\n"
     ]
    }
   ],
   "source": [
    "# calculate firing rate distribution statistics\n",
    "mean_e = np.mean(fr_e)\n",
    "std_e = np.var(fr_e)\n",
    "mean_i = np.mean(fr_i)\n",
    "std_i = np.var(fr_i)\n",
    "\n",
    "# display statistics\n",
    "print(f\"Mean of STN firing rate: {mean_e} Hz\")\n",
    "print(f\"STD of STN firing rate: {std_e} Hz\")\n",
    "print(f\"Mean of GPe firing rate: {mean_i} Hz\")\n",
    "print(f\"STD of GPe firing rate: {std_i} Hz\")"
   ]
  },
  {
   "cell_type": "code",
   "execution_count": null,
   "id": "c1648715",
   "metadata": {},
   "outputs": [],
   "source": []
  }
 ],
 "metadata": {
  "kernelspec": {
   "display_name": "Python 3 (ipykernel)",
   "language": "python",
   "name": "python3"
  },
  "language_info": {
   "codemirror_mode": {
    "name": "ipython",
    "version": 3
   },
   "file_extension": ".py",
   "mimetype": "text/x-python",
   "name": "python",
   "nbconvert_exporter": "python",
   "pygments_lexer": "ipython3",
   "version": "3.9.7"
  }
 },
 "nbformat": 4,
 "nbformat_minor": 5
}
