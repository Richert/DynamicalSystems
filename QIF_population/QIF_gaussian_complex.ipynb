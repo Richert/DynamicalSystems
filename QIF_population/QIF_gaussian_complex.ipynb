{
 "cells": [
  {
   "cell_type": "code",
   "execution_count": 9,
   "id": "7d6ba492",
   "metadata": {},
   "outputs": [],
   "source": [
    "import numpy as np\n",
    "import matplotlib.pyplot as plt\n",
    "from scipy.ndimage import gaussian_filter1d\n",
    "from pyrates import OperatorTemplate, NodeTemplate, CircuitTemplate, clear\n",
    "\n",
    "%matplotlib inline"
   ]
  },
  {
   "cell_type": "code",
   "execution_count": 16,
   "id": "d2577cc7",
   "metadata": {},
   "outputs": [],
   "source": [
    "# define QIF operator with conductance-based synapses\n",
    "eqs = [\n",
    "    \"w1' = i*(eta + I_ext - w1^2 - i*Delta - J*tau*s)/tau\",\n",
    "    \"w2' = -Delta - i*2*w1*w2\",\n",
    "    \"s' = real(w1 + w2)/(pi*tau) - s/tau_s \"\n",
    "]\n",
    "variables = {\n",
    "    \"w1\": \"variable(complex)\",\n",
    "    \"w2\": \"variable(0.0+0j)\",\n",
    "    \"s\": \"output(0.0)\",\n",
    "    \"Delta\": 1.0,\n",
    "    \"tau\": 1.0,\n",
    "    \"eta\": -5.0,\n",
    "    \"tau_s\": 1.0,\n",
    "    \"J\": 15.0,\n",
    "    \"i\": 0+1j,\n",
    "    \"I_ext\": \"input(0.0)\"\n",
    "}\n",
    "op = OperatorTemplate(name=\"qif_c\", equations=eqs, variables=variables, path=None)\n",
    "\n",
    "# define QIF node\n",
    "node = NodeTemplate(name=\"qif_node\", operators=[op], path=None)\n",
    "\n",
    "# define QIF model\n",
    "qif = CircuitTemplate(name=\"qif\", nodes={\"p\": node}, edges=[], path=None)"
   ]
  },
  {
   "cell_type": "code",
   "execution_count": 17,
   "id": "42dfc709",
   "metadata": {},
   "outputs": [
    {
     "name": "stdout",
     "output_type": "stream",
     "text": [
      "Compilation Progress\n",
      "--------------------\n",
      "\t(1) Translating the circuit template into a networkx graph representation...\n",
      "\t\t...finished.\n",
      "\t(2) Preprocessing edge transmission operations...\n",
      "\t\t...finished.\n",
      "\t(3) Parsing the model equations into a compute graph...\n",
      "\t\t...finished.\n",
      "\tModel compilation was finished.\n",
      "Simulation Progress\n",
      "-------------------\n",
      "\t (1) Generating the network run function...\n",
      "\t (2) Processing output variables...\n",
      "\t\t...finished.\n",
      "\t (3) Running the simulation...\n"
     ]
    },
    {
     "name": "stderr",
     "output_type": "stream",
     "text": [
      "/home/rgast/PycharmProjects/PyRates/pyrates/backend/computegraph.py:89: ComplexWarning: Casting complex values to real discards the imaginary part\n",
      "  self._value = np.asarray(v, dtype=self.dtype)\n"
     ]
    },
    {
     "name": "stdout",
     "output_type": "stream",
     "text": [
      "\t\t...finished after 1.1702873220019683s.\n"
     ]
    }
   ],
   "source": [
    "# simulation parameters\n",
    "T = 100.0\n",
    "T_on = 30.0\n",
    "T_off = 60.0\n",
    "dt = 1e-4\n",
    "dts = 1e-2\n",
    "\n",
    "# input definition\n",
    "steps = int(np.round(T/dt))\n",
    "start = int(np.round(T_on/dt))\n",
    "stop = int(np.round(T_off/dt))\n",
    "inp = np.zeros((steps,))\n",
    "inp[start:stop] = 3.0\n",
    "\n",
    "# perform simulation\n",
    "res = qif.run(simulation_time=T, step_size=dt, sampling_step_size=dts, solver=\"scipy\", method=\"RK23\",\n",
    "              outputs={\"s\": \"p/qif_c/s\"}, inputs={\"p/qif_c/I_ext\": inp})\n",
    "clear(qif)"
   ]
  },
  {
   "cell_type": "code",
   "execution_count": 18,
   "id": "1c9fb38f",
   "metadata": {},
   "outputs": [
    {
     "name": "stderr",
     "output_type": "stream",
     "text": [
      "/home/rgast/Software/anaconda3/envs/ds/lib/python3.8/site-packages/matplotlib-3.5.1-py3.8-linux-x86_64.egg/matplotlib/cbook/__init__.py:1298: ComplexWarning: Casting complex values to real discards the imaginary part\n",
      "  return np.asarray(x, float)\n"
     ]
    },
    {
     "data": {
      "text/plain": [
       "[<matplotlib.lines.Line2D at 0x7fe494541880>]"
      ]
     },
     "execution_count": 18,
     "metadata": {},
     "output_type": "execute_result"
    },
    {
     "data": {
      "image/png": "[encoded data removed]",
      "text/plain": [
       "<Figure size 432x288 with 1 Axes>"
      ]
     },
     "metadata": {
      "needs_background": "light"
     },
     "output_type": "display_data"
    }
   ],
   "source": [
    "plt.plot(res*1e3)"
   ]
  },
  {
   "cell_type": "code",
   "execution_count": null,
   "id": "3e6cfb0a",
   "metadata": {},
   "outputs": [],
   "source": []
  }
 ],
 "metadata": {
  "kernelspec": {
   "display_name": "Python 3 (ipykernel)",
   "language": "python",
   "name": "python3"
  },
  "language_info": {
   "codemirror_mode": {
    "name": "ipython",
    "version": 3
   },
   "file_extension": ".py",
   "mimetype": "text/x-python",
   "name": "python",
   "nbconvert_exporter": "python",
   "pygments_lexer": "ipython3",
   "version": "3.8.12"
  }
 },
 "nbformat": 4,
 "nbformat_minor": 5
}
